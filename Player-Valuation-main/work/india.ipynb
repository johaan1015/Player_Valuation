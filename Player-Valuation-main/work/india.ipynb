{
 "cells": [
  {
   "cell_type": "code",
   "execution_count": 2,
   "metadata": {},
   "outputs": [],
   "source": [
    "#Firstly I need to import libraries and setting some default display options\n",
    "\n",
    "# Importing libraries and Setting Dislplay Options\n",
    "\n",
    "import pandas as pd\n",
    "import numpy as np\n",
    "import matplotlib.pyplot as plt\n",
    "%matplotlib inline\n",
    "import seaborn as sns\n",
    "from bs4 import BeautifulSoup\n",
    "import requests\n",
    "import re\n",
    "\n",
    "from selenium import webdriver\n",
    "from selenium.webdriver.common.by import By\n",
    "from selenium.webdriver.support.ui import WebDriverWait\n",
    "from selenium.webdriver.support import expected_conditions as EC\n",
    "\n",
    "\n",
    "import statsmodels.api as sm\n",
    "from sklearn import metrics\n",
    "import statsmodels.formula.api as smf\n",
    "import patsy\n",
    "import scipy.stats as stats\n",
    "\n",
    "\n",
    "from sklearn import linear_model\n",
    "from sklearn.linear_model import LinearRegression, Ridge, Lasso, LassoCV, RidgeCV\n",
    "from sklearn.preprocessing import MinMaxScaler\n",
    "from sklearn.model_selection import train_test_split\n",
    "from sklearn.model_selection import KFold\n",
    "from sklearn.model_selection import cross_val_score\n",
    "from sklearn.preprocessing import StandardScaler, PolynomialFeatures\n",
    "from sklearn.metrics import r2_score\n",
    "\n",
    "\n",
    "#Setting Options\n",
    "pd.set_option('display.max_columns', 75)\n",
    "pd.set_option('display.max_rows', 100)"
   ]
  },
  {
   "cell_type": "code",
   "execution_count": 3,
   "metadata": {},
   "outputs": [],
   "source": [
    "player_list = []\n",
    "\n",
    "# Set up the Selenium driver\n",
    "driver = webdriver.Chrome()\n",
    "\n",
    "# Loop over multiple pages, Main page includes players characteristics data and \n",
    "# each page has 60 players. So I need to build loop to get all players from sofifa. \n",
    "# I used BeautifulSoup library to scrape data.\n",
    "for i in range(0, 180, 60):\n",
    "    # Load the webpage\n",
    "    url = \"https://sofifa.com/players?type=all&na%5B0%5D=159&offset=\"+str(i)\n",
    "    driver.get(url)\n",
    "\n",
    "    # Wait for the table to load\n",
    "    wait = WebDriverWait(driver, 10)\n",
    "    table = wait.until(EC.presence_of_element_located((By.CSS_SELECTOR, \"table.table tbody\")))\n",
    "\n",
    "    # Extract the page source\n",
    "    page_source = driver.page_source\n",
    "\n",
    "    # Parse the page source with BeautifulSoup\n",
    "    soup = BeautifulSoup(page_source, \"lxml\")\n",
    "\n",
    "    # Find all the rows in the table\n",
    "    rows = soup.find_all(\"tr\")\n",
    "\n",
    "    # Extract the data from each row\n",
    "    for row in rows:\n",
    "        cells = row.find_all('td')\n",
    "        cells_to_string = str(cells)\n",
    "        cells_sub = (re.sub(re.compile('<.*?>'),'',cells_to_string))\n",
    "        player_list.append(cells_sub)\n",
    "\n",
    "# Convert the list of data to a DataFrame\n",
    "result = pd.DataFrame(player_list)\n",
    "\n",
    "# Close the driver\n",
    "driver.quit()"
   ]
  },
  {
   "cell_type": "code",
   "execution_count": 4,
   "metadata": {},
   "outputs": [
    {
     "name": "stdout",
     "output_type": "stream",
     "text": [
      "Number of All Rows\n",
      "183\n",
      "\n",
      "Number of Rows Unique\n",
      "181\n"
     ]
    }
   ],
   "source": [
    "# After scraping process, I checked number of rows and dropped duplicate rows.\n",
    "#  Finally I scraped 18674 players from sofifa web page.\n",
    "print(\"Number of All Rows\")\n",
    "print(len(result));\n",
    "print(\"\")\n",
    "print(\"Number of Rows Unique\")\n",
    "result.drop_duplicates(subset=None, keep=\"first\", inplace=True)\n",
    "print(len(result))"
   ]
  }
 ],
 "metadata": {
  "kernelspec": {
   "display_name": "Python 3",
   "language": "python",
   "name": "python3"
  },
  "language_info": {
   "codemirror_mode": {
    "name": "ipython",
    "version": 3
   },
   "file_extension": ".py",
   "mimetype": "text/x-python",
   "name": "python",
   "nbconvert_exporter": "python",
   "pygments_lexer": "ipython3",
   "version": "3.10.11"
  },
  "orig_nbformat": 4
 },
 "nbformat": 4,
 "nbformat_minor": 2
}
